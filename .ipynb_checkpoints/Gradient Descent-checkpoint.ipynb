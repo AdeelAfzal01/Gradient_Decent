{
 "cells": [
  {
   "cell_type": "code",
   "execution_count": 1,
   "metadata": {},
   "outputs": [],
   "source": [
    "import numpy as np"
   ]
  },
  {
   "cell_type": "code",
   "execution_count": null,
   "metadata": {},
   "outputs": [],
   "source": [
    "def gradient_descent(x,y):\n",
    "    \n",
    "    m_curr = b_curr = 0\n",
    "    iterations = 1000\n",
    "    n = len(x)\n",
    "    \n",
    "    learning_rate = 0.001\n",
    "    \n",
    "    for i in range(iterations):\n",
    "        \n",
    "        y_predicted = m_curr * x + b_curr\n",
    "        \n",
    "        \n",
    "        # partial derivative w.r.t. m\n",
    "        md = -(2/n)*sum(x*(y-y_predicted))\n",
    "        \n",
    "        # partial derivative w.r.t. b\n",
    "        bd = -(2/n)*sum(y-y_predicted)\n",
    "        \n",
    "        #Learning Rates\n",
    "        \n",
    "        m_curr = m_curr - learning_rate * md \n",
    "        \n",
    "        b_curr = b_curr - learning_rate * bd\n",
    "        \n",
    "    \n",
    "    "
   ]
  },
  {
   "cell_type": "code",
   "execution_count": null,
   "metadata": {},
   "outputs": [],
   "source": [
    "x = [1,2,3,4,5]\n",
    "y = [5,7,9,11,13]\n",
    "\n",
    "gradient"
   ]
  }
 ],
 "metadata": {
  "kernelspec": {
   "display_name": "Python 3",
   "language": "python",
   "name": "python3"
  },
  "language_info": {
   "codemirror_mode": {
    "name": "ipython",
    "version": 3
   },
   "file_extension": ".py",
   "mimetype": "text/x-python",
   "name": "python",
   "nbconvert_exporter": "python",
   "pygments_lexer": "ipython3",
   "version": "3.6.8"
  }
 },
 "nbformat": 4,
 "nbformat_minor": 2
}
